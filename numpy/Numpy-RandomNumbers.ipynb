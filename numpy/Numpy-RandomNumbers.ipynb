{
 "cells": [
  {
   "cell_type": "markdown",
   "metadata": {},
   "source": [
    "\n",
    "\n",
    "<h1>Random Number Generation with NumPy</h1>\n",
    "\n",
    " For the sake of brevity, the specific functions names are given in the example below, rather than the full specification.\n",
    "\n",
    "The <tt>rand()</tt> command is fully specified as <tt>np.random.rand()</tt>\n"
   ]
  },
  {
   "cell_type": "markdown",
   "metadata": {},
   "source": [
    "\n",
    "### Core Random Number Generators\n",
    "NumPy random number generators are all stored in the module <tt>numpy.random</tt>. \n",
    "These can be imported with using <tt>import numpy as np</tt> and then calling <tt>np.random.rand</tt>.\n",
    "\n",
    "<h4><tt>rand</tt>, <tt>random_sample</tt></h4>\n",
    "<tt>rand</tt> and <tt>random_sample</tt> are uniform random number generators whichare\n",
    " identicalexceptthat rand takes a variable number \n",
    "of integer inputs – one for each dimension – while <tt>random_sample</tt> takes a n-element tuple. \n"
   ]
  },
  {
   "cell_type": "code",
   "execution_count": 2,
   "metadata": {
    "collapsed": true
   },
   "outputs": [],
   "source": [
    "from numpy import random"
   ]
  },
  {
   "cell_type": "markdown",
   "metadata": {},
   "source": [
    " <tt>random_sample</tt> is the preferred NumPy function, and <tt>rand</tt> is a convenience function primarily for \n",
    "MATLAB users.\n"
   ]
  },
  {
   "cell_type": "code",
   "execution_count": 7,
   "metadata": {},
   "outputs": [
    {
     "name": "stdout",
     "output_type": "stream",
     "text": [
      "[[[ 0.0955836   0.03376582  0.38817283  0.85912198]\n",
      "  [ 0.04482029  0.10219086  0.89684468  0.54820184]\n",
      "  [ 0.15114895  0.6866938   0.73250885  0.75220145]]\n",
      "\n",
      " [[ 0.34889475  0.73198403  0.28772946  0.10666828]\n",
      "  [ 0.17649262  0.32695649  0.51585941  0.78629993]\n",
      "  [ 0.78252941  0.12911372  0.10055781  0.61494607]]]\n"
     ]
    }
   ],
   "source": [
    "\n",
    "x = random.rand(2,3,4) \n",
    "y = random.random_sample((3,4,5))\n",
    "print(x)"
   ]
  },
  {
   "cell_type": "markdown",
   "metadata": {},
   "source": [
    "\n",
    "<br>\n",
    "<h4><tt>randn, standard_normal</h4>\n",
    "<ul>\n",
    "<li> <tt>randn</tt> and <tt>standard_normal</tt> are standard normal (i.e. Z-value) random number generators. <tt>randn</tt>, like <tt>rand</tt>, takes a\n",
    "variable number of integer inputs, and <tt>standard_normal</tt> takes an n-element tuple. \n",
    "<li> Both can be called\n",
    "with no arguments to generate a single standard normal (e.g. randn()). \n",
    "<li> <tt>standard_normal</tt> is the preferred\n",
    "NumPy function, and <tt>randn</tt> is a convenience function intended primarily for MATLAB users .\n",
    "</ul>\n"
   ]
  },
  {
   "cell_type": "code",
   "execution_count": 6,
   "metadata": {},
   "outputs": [
    {
     "name": "stdout",
     "output_type": "stream",
     "text": [
      "[[[-0.29933325  1.59225056  0.4002575   0.55517836  0.11246419]\n",
      "  [-0.32775563 -0.17327254  0.63177113  1.03844333 -0.62764267]\n",
      "  [ 0.98311952  0.3749228  -0.20881392 -0.62546328  0.09324813]\n",
      "  [-0.42731764  0.0780507  -0.31227948  0.09510427  0.31145272]]\n",
      "\n",
      " [[-0.27788454  0.69382967 -0.01061293  0.60195604 -0.24112627]\n",
      "  [ 0.66711036  0.37401446 -1.4340408  -1.33130408  0.59943552]\n",
      "  [ 0.01088137 -0.74842078  0.22271366 -0.61713332 -1.29931144]\n",
      "  [ 0.4655614   0.39209554  1.45063744 -0.47540715  1.78263688]]\n",
      "\n",
      " [[ 1.90659355  0.36309475  1.55772701  1.71017227  0.515373  ]\n",
      "  [ 0.30507215  0.10262419 -1.88907061 -1.24840471 -0.04699204]\n",
      "  [-0.3347669   0.52992483 -1.08687925  1.41647664 -0.80305374]\n",
      "  [ 0.79514637  0.44449097 -1.16431231  0.17817714  0.93697488]]]\n"
     ]
    }
   ],
   "source": [
    "x = random.randn(3,4,5)\n",
    "y = random.standard_normal((3,4,5))\n",
    "print(x)"
   ]
  },
  {
   "cell_type": "markdown",
   "metadata": {},
   "source": [
    "\n",
    "<h4><tt>randint, random_integers</h4>\n",
    "<tt>randint</tt> and <tt>random_integers</tt> are uniform integer random number generators which take 3 inputs: low,\n",
    "high and size. \n",
    "<ul>\n",
    "<li> <tt>low</tt> is the lower bound of the integers generated, \n",
    "<li> <tt>high</tt> is the upper,\n",
    "<li> <tt>size</tt> is a n-elementtuple. \n",
    "</ul>"
   ]
  },
  {
   "cell_type": "markdown",
   "metadata": {},
   "source": [
    "\n",
    "<b>Important:</b><br>\n",
    "<tt>randint()</tt> and <tt>random_integers</tt> differ in that <tt>randint</tt> generates integers exclusive of the value in <tt>high</tt>\n",
    "(as do most Python functions), while <tt>random_integers</tt> includes the value in <tt>high</ttt> in its range.\n"
   ]
  },
  {
   "cell_type": "code",
   "execution_count": 28,
   "metadata": {},
   "outputs": [
    {
     "data": {
      "text/plain": [
       "9"
      ]
     },
     "execution_count": 28,
     "metadata": {},
     "output_type": "execute_result"
    }
   ],
   "source": [
    "x = random.randint(0,10,(100))\n",
    "x.max() \n",
    "# Is 9 since range is [0,10)"
   ]
  },
  {
   "cell_type": "code",
   "execution_count": 27,
   "metadata": {},
   "outputs": [
    {
     "data": {
      "text/plain": [
       "9"
      ]
     },
     "execution_count": 27,
     "metadata": {},
     "output_type": "execute_result"
    }
   ],
   "source": [
    "y = random.randint(0,10,(100))\n",
    "y.max() \n",
    "# Is 10 since range is [0,10]"
   ]
  },
  {
   "cell_type": "markdown",
   "metadata": {},
   "source": [
    "\n",
    "<h3> Random Array Functions</h3>\n",
    "<br>\n",
    "<h4><tt>shuffle</h4>\n",
    "<tt>shuffle</tt> randomly reorders the elements of an array in place."
   ]
  },
  {
   "cell_type": "code",
   "execution_count": 35,
   "metadata": {
    "collapsed": true
   },
   "outputs": [],
   "source": [
    "x = [1,2,3,4,5,6,7,8,9,10,11,12]\n",
    "random.shuffle(x)"
   ]
  },
  {
   "cell_type": "code",
   "execution_count": 36,
   "metadata": {},
   "outputs": [
    {
     "data": {
      "text/plain": [
       "[1, 2, 12, 5, 4, 3, 11, 8, 7, 6, 9, 10]"
      ]
     },
     "execution_count": 36,
     "metadata": {},
     "output_type": "execute_result"
    }
   ],
   "source": [
    "x"
   ]
  },
  {
   "cell_type": "markdown",
   "metadata": {},
   "source": [
    "<h4><tt>permutation</h4>\n",
    "<tt>permutation</tt> returns randomly reordered elements of an array as a copy while not directly changing the\n",
    "input."
   ]
  },
  {
   "cell_type": "code",
   "execution_count": 38,
   "metadata": {},
   "outputs": [
    {
     "data": {
      "text/plain": [
       "array([10,  2,  1,  4,  8,  5,  7, 11,  6,  3,  9, 12])"
      ]
     },
     "execution_count": 38,
     "metadata": {},
     "output_type": "execute_result"
    }
   ],
   "source": [
    "x = [1,2,3,4,5,6,7,8,9,10,11,12]\n",
    "random.permutation(x)\n",
    "\n"
   ]
  },
  {
   "cell_type": "code",
   "execution_count": 39,
   "metadata": {},
   "outputs": [
    {
     "data": {
      "text/plain": [
       "[1, 2, 3, 4, 5, 6, 7, 8, 9, 10, 11, 12]"
      ]
     },
     "execution_count": 39,
     "metadata": {},
     "output_type": "execute_result"
    }
   ],
   "source": [
    "x\n"
   ]
  },
  {
   "cell_type": "markdown",
   "metadata": {},
   "source": [
    "<h3>Select Random Number Generators</h3>\n",
    "<ul>\n",
    "<li> NumPy provides a large selection of random number generators for specific distribution. \n",
    "<li> All take between\n",
    "0 and 2 required inputs which are parameters of the distribution, plus a tuple containing the size of the\n",
    "output. \n",
    "<li> All random number generators are in the module <tt>numpy.random}.\n",
    "</ul>\n",
    "<br>"
   ]
  },
  {
   "cell_type": "markdown",
   "metadata": {},
   "source": [
    "\n",
    "<h4><tt>seed</h4>\n",
    "\n",
    "<ul>\n",
    "<li> <tt>numpy.random.seed</tt> is a more useful function for initializing the random number generator, and can be\n",
    "used in one of two ways. <tt>seed()</tt> will initialize (or reinitialize) the random number generator using some\n",
    "actual random data provided by the operating system.\n",
    "\n",
    "<li> <tt>seed( s )</tt> takes a vector of values (can be scalar) to\n",
    "initialize the random number generator at particular state. \n",
    "<li> <tt>seed( s )</tt> is particularly useful for producing\n",
    "simulation studies which are reproducible. \n",
    "<h4>Example</h4>\n",
    "In the following example, calls to <tt>seed()</tt> produce different\n",
    "random numbers, since these reinitialize using random data from the computer, while calls to <tt>seed(0)</tt>\n",
    "produce the same random number or sequence of random numbers.\n",
    "<br>\n",
    "</ul>"
   ]
  },
  {
   "cell_type": "code",
   "execution_count": 42,
   "metadata": {},
   "outputs": [
    {
     "data": {
      "text/plain": [
       "-0.3179158260717359"
      ]
     },
     "execution_count": 42,
     "metadata": {},
     "output_type": "execute_result"
    }
   ],
   "source": [
    "random.seed()\n",
    "random.randn()"
   ]
  },
  {
   "cell_type": "code",
   "execution_count": 43,
   "metadata": {},
   "outputs": [
    {
     "data": {
      "text/plain": [
       "-0.7547207538762433"
      ]
     },
     "execution_count": 43,
     "metadata": {},
     "output_type": "execute_result"
    }
   ],
   "source": [
    "random.seed()\n",
    "random.randn()"
   ]
  },
  {
   "cell_type": "code",
   "execution_count": 44,
   "metadata": {},
   "outputs": [
    {
     "data": {
      "text/plain": [
       "1.764052345967664"
      ]
     },
     "execution_count": 44,
     "metadata": {},
     "output_type": "execute_result"
    }
   ],
   "source": [
    "random.seed(0)\n",
    "random.randn()"
   ]
  },
  {
   "cell_type": "code",
   "execution_count": 45,
   "metadata": {},
   "outputs": [
    {
     "data": {
      "text/plain": [
       "1.764052345967664"
      ]
     },
     "execution_count": 45,
     "metadata": {},
     "output_type": "execute_result"
    }
   ],
   "source": [
    "random.seed(0)\n",
    "random.randn()"
   ]
  },
  {
   "cell_type": "markdown",
   "metadata": {},
   "source": [
    "\n",
    "NumPy always calls <tt>seed()</tt>  when the first random number is generated. As a result. calling <tt>standard_normal()</tt>\n",
    "across two “fresh” sessions will not produce the same random number.\n",
    "<br>\n",
    "\n",
    "### Random Array Functions\n"
   ]
  },
  {
   "cell_type": "markdown",
   "metadata": {},
   "source": [
    "<h4>Select Random Number Generators</h4>\n",
    "<ul>\n",
    "<li> NumPy provides a large selection of random number generators for specific distribution. \n",
    "\n",
    "<li> All take between 0 and 2 required inputs which are parameters of the distribution, plus a tuple containing the size of the output. \n",
    "<li> All random number generators are in the module \n",
    "<tt>numpy.random</tt>.\n",
    "</ul>\n",
    "\n",
    "\n",
    "<h4>Bernoulli</h4>\n",
    "<ul>\n",
    "<li> There is no ***Bernoulli generator***. \n",
    "<li> Instead use <tt>binomial(1,p)</tt> to generate a single draw or <tt>binomial(1,p,(10,10))</tt> to generate an array where \n",
    "<tt>p</tt>is the probability of success.\n",
    "</ul>"
   ]
  },
  {
   "cell_type": "markdown",
   "metadata": {},
   "source": [
    "<h4>Simulation and Random Number Generation</h4>\n",
    "<ul>\n",
    "<li> Computer simulated random numbers are usually constructed from very complex but ultimately deterministic\n",
    "functions. \n",
    "<li> Because they are not actually random, simulated random numbers are generally described\n",
    "to as **pseudo-random**. \n",
    "<li> All pseudo-random numbers in NumPy use one core random number generator\n",
    "based on the ***Mersenne Twister***, a generator which can produce a very long series of pseudo-random\n",
    "data before repeating (up to $2^{19937} - 1$ non-repeating values).\n",
    "</ul>"
   ]
  },
  {
   "cell_type": "markdown",
   "metadata": {},
   "source": [
    "\n",
    "<h4><tt>RandomState</h4>\n",
    "<tt>RandomState</tt> is the class used to control the random number generators. Multiple generators can be initialized\n",
    "by <tt>RandomState</tt>.\n"
   ]
  },
  {
   "cell_type": "code",
   "execution_count": 21,
   "metadata": {},
   "outputs": [
    {
     "data": {
      "text/plain": [
       "0.053348148799395756"
      ]
     },
     "execution_count": 21,
     "metadata": {},
     "output_type": "execute_result"
    }
   ],
   "source": [
    "gen1 = random.RandomState()\n",
    "gen2 = random.RandomState()\n",
    "\n",
    "# Generate a uniform\n",
    "gen1.uniform() "
   ]
  },
  {
   "cell_type": "code",
   "execution_count": 22,
   "metadata": {},
   "outputs": [
    {
     "data": {
      "text/plain": [
       "0.9959202678511813"
      ]
     },
     "execution_count": 22,
     "metadata": {},
     "output_type": "execute_result"
    }
   ],
   "source": [
    "state1 = gen1.get_state()\n",
    "gen1.uniform()"
   ]
  },
  {
   "cell_type": "code",
   "execution_count": 23,
   "metadata": {},
   "outputs": [
    {
     "data": {
      "text/plain": [
       "0.227249825617046"
      ]
     },
     "execution_count": 23,
     "metadata": {},
     "output_type": "execute_result"
    }
   ],
   "source": [
    "# Different, since gen2 has different seed\n",
    "gen2.uniform()"
   ]
  },
  {
   "cell_type": "code",
   "execution_count": 24,
   "metadata": {},
   "outputs": [
    {
     "data": {
      "text/plain": [
       "0.9959202678511813"
      ]
     },
     "execution_count": 24,
     "metadata": {},
     "output_type": "execute_result"
    }
   ],
   "source": [
    "\n",
    "\n",
    "# Same uniform as gen1 after assigning state\n",
    "gen2.set_state(state1)\n",
    "gen2.uniform() \n"
   ]
  },
  {
   "cell_type": "markdown",
   "metadata": {},
   "source": [
    "\n",
    "<h4><tt> State</tt></h4>\n",
    "<ul>\n",
    "<li> Pseudo-random number generators track a set of values known as the \\textit{state}. \n",
    "<li> The state is usually a vector\n",
    "which has the property that if two instances of the same pseudo-random number generator have the\n",
    "same state, the sequence of pseudo-random numbers generated will be identical. \n",
    "<li> The state of the default\n",
    "random number generator can be read using <tt>numpy.random.get_state</tt> and can be restored using\n",
    "<tt>numpy.random.set_state</tt>.\n",
    "</ul>\n"
   ]
  },
  {
   "cell_type": "code",
   "execution_count": 25,
   "metadata": {},
   "outputs": [
    {
     "name": "stdout",
     "output_type": "stream",
     "text": [
      "[ 0.11107481  0.09273262 -1.00267879  0.46292336]\n",
      "[ 0.11107481  0.09273262 -1.00267879  0.46292336]\n"
     ]
    }
   ],
   "source": [
    "st = random.get_state()\n",
    "#print(st)\n",
    "print(random.randn(4))\n",
    "\n",
    "random.set_state(st)\n",
    "print(random.randn(4))\n"
   ]
  },
  {
   "cell_type": "markdown",
   "metadata": {
    "collapsed": true
   },
   "source": [
    "\n",
    "\n",
    "<ul>\n",
    "<li> The two sequences are identical since they the state is the same when <tt>randn</tt> is called. \n",
    "<li> The state is a 5-\n",
    "element tuple where the second element is a 625 by 1 vector of unsigned 32-bit integers. \n",
    "<li> In practice the\n",
    "state should only be stored using <tt>get_state</tt> and restored using <tt>set_state</tt>.\n",
    "</ul>\n",
    "\n",
    "<br>\n",
    "\n",
    "\n"
   ]
  },
  {
   "cell_type": "markdown",
   "metadata": {},
   "source": [
    "<h4><tt>get_state</h4>\n",
    "\n",
    "<ul>\n",
    "<li> <tt>get_state()</tt> gets the current state of the random number generator, which is a 5-element tuple. \n",
    "<li> It can be\n",
    "called as a function, in which case it gets the state of the default random number generator, or as a method\n",
    "on a particular instance of <tt>RandomState</tt>.\n",
    "</ul>\n",
    "\n",
    "<h4><tt>set_state</h4>\n",
    "\n",
    "<ul>\n",
    "<li> <tt>set_state(state)</tt> sets the state of the random number generator. \n",
    "<li> It can be called as a function, in which\n",
    "case it sets the state of the default random number generator, or as a method on a particular instance of\n",
    "<tt>RandomState</tt>.<li> <tt>set_state</tt> should generally only be called using a state tuple returned by <tt>get_state</tt>.\n",
    "</ul>"
   ]
  },
  {
   "cell_type": "code",
   "execution_count": null,
   "metadata": {
    "collapsed": true
   },
   "outputs": [],
   "source": []
  }
 ],
 "metadata": {
  "kernelspec": {
   "display_name": "Python 3.6",
   "language": "python",
   "name": "python36"
  },
  "language_info": {
   "codemirror_mode": {
    "name": "ipython",
    "version": 3
   },
   "file_extension": ".py",
   "mimetype": "text/x-python",
   "name": "python",
   "nbconvert_exporter": "python",
   "pygments_lexer": "ipython3",
   "version": "3.6.2"
  }
 },
 "nbformat": 4,
 "nbformat_minor": 2
}
