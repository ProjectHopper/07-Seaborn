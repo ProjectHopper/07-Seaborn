{
 "cells": [
  {
   "cell_type": "markdown",
   "metadata": {},
   "source": [
    "## What is scikit-learn?\n",
    "\n",
    "* The scikit-learn is a Python module for machine learning built on top of NumPy, SciPy, and matplotlib.\n",
    "* The scikit-learn is one of the most popular open source machine learning libraries (packages) in Python.\n",
    "* The scikit-learn is a part of Anaconda distribution.\n",
    "* The scikit-learn has nice API http://scikit-learn.org/stable/ with full of examples, documentation and explanation.\n",
    "* Book: *** Introduction to Machine Learning with Python  ***\n",
    "by Andreas C. Mueller , Sarah Guido \n"
   ]
  },
  {
   "cell_type": "markdown",
   "metadata": {},
   "source": [
    "#### Anaconda Installation\n",
    "\n",
    "<pre><code>\n",
    "conda install scikit-learn\n",
    "    \n",
    "pip install -U scikit-learn\n",
    "</code></pre>"
   ]
  },
  {
   "cell_type": "markdown",
   "metadata": {},
   "source": [
    "#### Requirements for working with data in scikit-learn\n",
    "\n",
    "* Features and response should be numeric (NumPy arrays or sparse matrix)\n",
    "\n",
    "* Features and response are separate objects that should be in specific format.\n",
    "\n",
    "\n",
    "- ***``X``*** :    feature \n",
    "  - attribute, independent variable \n",
    "  - two-dimensional arrays\n",
    "- ***``y``*** : response \n",
    "  - target, label, dependent variable\n",
    "  - one dimensional array or series\n",
    "\n",
    "\n"
   ]
  },
  {
   "cell_type": "markdown",
   "metadata": {},
   "source": [
    "#### Methods\n",
    "\n",
    "Scikit-learn has the main methods: ``fit``, ``predict``, ``transform``, ``score``\n",
    "    \n",
    "- ``model.fit(X,y)``\n",
    "\n",
    "- ``model.predict(X_new)``               \n",
    "  - ``model.predict_proba()`` \n",
    "\n",
    "- ``model.score()``\n",
    "\n",
    "- ``model.transform()``   \n",
    "  - *unsupervised or feature selection*\n"
   ]
  },
  {
   "cell_type": "markdown",
   "metadata": {},
   "source": [
    "#### Modelling Steps\n",
    "\n",
    "1 Import the class (estimator)\n",
    "     \n",
    "     from sklearn.linear_model import LogisticRegression\n",
    "     \n",
    "2 instantiate the class (estimator) and assign to an object ``clf_logreg``. \n",
    "\n",
    "*We can specify tuning parameters here otherwise the default parameters will be applied.*\n",
    "\n",
    "     clf_logreg = LogisticRegression()\n",
    "\n",
    "3 Build the model  (train or fit the model with data)\n",
    "\n",
    "     clf_logreg.fit(X, y)                                                            \n",
    "     clf_logreg.fit(X_train, y_train)\n",
    "\n",
    "4 Predict  the response values for X and assign an object ``y_pred``        \n",
    "       \n",
    "     y_pred = clf_logreg.predict(X)\n",
    "\n",
    "5 Make predictions based on the test data on unseen data\n",
    "\n",
    "     predictions = clf_logreg.predict(testdata)\n",
    "\n",
    "\n"
   ]
  },
  {
   "cell_type": "markdown",
   "metadata": {},
   "source": [
    "# Data Analysis and Modelling Titanic Starter"
   ]
  },
  {
   "cell_type": "markdown",
   "metadata": {},
   "source": [
    "The datasets can be downloaded from Kaggle.  https://www.kaggle.com/c/titanic"
   ]
  },
  {
   "cell_type": "code",
   "execution_count": 152,
   "metadata": {},
   "outputs": [
    {
     "name": "stdout",
     "output_type": "stream",
     "text": [
      "Python version: 3.6.0 |Anaconda custom (64-bit)| (default, Dec 23 2016, 12:22:00) \n",
      "[GCC 4.4.7 20120313 (Red Hat 4.4.7-1)]\n"
     ]
    }
   ],
   "source": [
    "import sys\n",
    "print(\"Python version: {}\".format(sys.version))"
   ]
  },
  {
   "cell_type": "code",
   "execution_count": 153,
   "metadata": {},
   "outputs": [
    {
     "name": "stdout",
     "output_type": "stream",
     "text": [
      "scikit-learn version: 0.18.1\n"
     ]
    }
   ],
   "source": [
    "import sklearn\n",
    "print(\"scikit-learn version: {}\".format(sklearn.__version__))"
   ]
  },
  {
   "cell_type": "code",
   "execution_count": 154,
   "metadata": {
    "collapsed": true
   },
   "outputs": [],
   "source": [
    "#import relevant packages\n",
    "import pandas as pd\n",
    "import numpy as np\n",
    "import matplotlib.pyplot as plt\n",
    "%matplotlib inline\n",
    "\n",
    "import seaborn as sns"
   ]
  },
  {
   "cell_type": "code",
   "execution_count": 155,
   "metadata": {},
   "outputs": [],
   "source": [
    "# Load data\n",
    "train = pd.read_csv(\"https://raw.githubusercontent.com/PyDataWorkshop/datasets/master/titanic/train.csv\")  \n",
    "test = pd.read_csv(\"https://raw.githubusercontent.com/PyDataWorkshop/datasets/master/titanic/test.csv\")"
   ]
  }
 ],
 "metadata": {
  "kernelspec": {
   "display_name": "Python 3.6",
   "language": "python",
   "name": "python36"
  },
  "language_info": {
   "codemirror_mode": {
    "name": "ipython",
    "version": 3
   },
   "file_extension": ".py",
   "mimetype": "text/x-python",
   "name": "python",
   "nbconvert_exporter": "python",
   "pygments_lexer": "ipython3",
   "version": "3.6.2"
  }
 },
 "nbformat": 4,
 "nbformat_minor": 2
}
