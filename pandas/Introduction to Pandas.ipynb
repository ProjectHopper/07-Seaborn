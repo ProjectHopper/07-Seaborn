{
 "cells": [
  {
   "cell_type": "code",
   "execution_count": 1,
   "metadata": {
    "collapsed": true
   },
   "outputs": [],
   "source": [
    "import pandas as pd\n",
    "import numpy as np\n",
    "import matplotlib.pyplot as plt\n",
    "\n",
    "%matplotlib inline"
   ]
  },
  {
   "cell_type": "markdown",
   "metadata": {},
   "source": [
    "## Introduction to Pandas"
   ]
  },
  {
   "cell_type": "markdown",
   "metadata": {},
   "source": [
    "**pandas** is a Python package providing fast, flexible, and expressive data structures designed to make working with “relational” or “labeled” data both easy and intuitive. It aims to be the fundamental high-level building block for doing practical, real world data analysis in Python. Additionally, it has the broader goal of becoming **the most powerful and flexible open source data analysis / manipulation tool available in any language**. It is already well on its way toward this goal.\n",
    "\n",
    "pandas is well suited for many different kinds of data:\n",
    "* Tabular data with heterogeneously-typed columns, as in an SQL table or Excel spreadsheet\n",
    "* Ordered and unordered (not necessarily fixed-frequency) time series data.\n",
    "* Arbitrary matrix data (homogeneously typed or heterogeneous) with row and column labels\n",
    "* Any other form of observational / statistical data sets. The data actually need not be labeled at all to be placed into a pandas data structure\n",
    "\n",
    "The two primary data structures of pandas - *Series* (1-dimensional) and *DataFrame* (2-dimensional), handle the vast majority of typical use cases in finance, statistics, social science, and many areas of engineering. For R users, DataFrame provides everything that R’s data.frame provides and much more. pandas is built on top of NumPy and is intended to integrate well within a scientific computing environment with many other 3rd party libraries.\n",
    "\n",
    "Here are just a few of the things that pandas does well:\n",
    "* Easy handling of missing data (represented as NaN) in floating point as well as non-floating point data\n",
    "* Size mutability: columns can be inserted and deleted from DataFrame and higher dimensional objects\n",
    "* Powerful, flexible group by functionality to perform split-apply-combine operations on data sets, for both aggregating and transforming data\n",
    "* Intelligent label-based slicing, fancy indexing, and subsetting of large data sets\n",
    "* Intuitive merging and joining data sets\n",
    "* Flexible reshaping and pivoting of data sets\n",
    "* Robust IO tools for loading data from flat files (CSV and delimited), Excel files, databases, and saving / loading data from the ultrafast HDF5 format\n",
    "* Time series-specific functionality: date range generation and frequency conversion, moving window statistics, moving window linear regressions, date shifting and lagging, etc.\n",
    "\n",
    "Many of these principles are here to address the shortcomings frequently experienced using other languages / scientific research environments. For data scientists, working with data is typically divided into multiple stages: munging and cleaning data, analyzing / modeling it, then organizing the results of the analysis into a form suitable for plotting or tabular display. pandas is the ideal tool for all of these tasks.\n",
    "\n",
    "Some other notes\n",
    "* **pandas** is fast. Many of the low-level algorithmic bits have been extensively tweaked in Cython code. However, as with anything else generalization usually sacrifices performance. So if you focus on one feature for your application you may be able to create a faster specialized tool.\n",
    "* pandas is a dependency of statsmodels, making it an important part of the statistical computing ecosystem in Python.\n",
    "* pandas has been used extensively in production in financial applications."
   ]
  },
  {
   "cell_type": "markdown",
   "metadata": {},
   "source": [
    "<br>\n",
    "\n",
    "## Representation\n",
    "\n",
    "All data is loaded directly into the RAM and is optimised to use memory efficiently. The data in memory can be thought of as below:\n",
    "\n",
    "| column 1 | column 2 | column 3 |\n",
    "| -------- | -------- | -------- |\n",
    "| Alan | Robinson | Male |\n",
    "| Kevin | O'Brien | Male |\n",
    "| Diane | Cooper | Female |\n",
    "| Patricia | O'Connor | Female |\n",
    "\n",
    "\n",
    "The main data structure in **pandas** is **DataFrame** which manages data in the above format and is accessible for computation as a python **dictionary**. Lets create the above information as a pandas dataframe."
   ]
  },
  {
   "cell_type": "code",
   "execution_count": null,
   "metadata": {
    "collapsed": true
   },
   "outputs": [],
   "source": [
    "Exercise : Add in more cases, and unpdate the code on an ongoing basis"
   ]
  },
  {
   "cell_type": "code",
   "execution_count": 3,
   "metadata": {},
   "outputs": [
    {
     "data": {
      "text/plain": [
       "{'column1': ['Alan', 'Kevin', 'Diane', 'Patricia'],\n",
       " 'column2': ['Robinson', \"O'Brien\", 'Cooper', \"O'Connor\"],\n",
       " 'column3': ['Male', 'Male', 'Female', 'Female'],\n",
       " 'some_random_numbers': [4200, 2750, 3425, 3820]}"
      ]
     },
     "execution_count": 3,
     "metadata": {},
     "output_type": "execute_result"
    }
   ],
   "source": [
    "# Create a python dictionary\n",
    "\n",
    "data = {\n",
    "    \"column1\": [\"Alan\", \"Kevin\", \"Diane\",\"Patricia\"],\n",
    "    \"column2\": [\"Robinson\", \"O'Brien\",\"Cooper\",\"O'Connor\"],\n",
    "    \"column3\": [\"Male\", \"Male\", \"Female\",\"Female\"],\n",
    "    \"some_random_numbers\": [4200, 2750, 3425,3820]\n",
    "}\n",
    "\n",
    "data"
   ]
  },
  {
   "cell_type": "code",
   "execution_count": 4,
   "metadata": {},
   "outputs": [
    {
     "data": {
      "text/html": [
       "<div>\n",
       "<table border=\"1\" class=\"dataframe\">\n",
       "  <thead>\n",
       "    <tr style=\"text-align: right;\">\n",
       "      <th></th>\n",
       "      <th>column1</th>\n",
       "      <th>column2</th>\n",
       "      <th>column3</th>\n",
       "      <th>some_random_numbers</th>\n",
       "    </tr>\n",
       "  </thead>\n",
       "  <tbody>\n",
       "    <tr>\n",
       "      <th>0</th>\n",
       "      <td>Alan</td>\n",
       "      <td>Robinson</td>\n",
       "      <td>Male</td>\n",
       "      <td>4200</td>\n",
       "    </tr>\n",
       "    <tr>\n",
       "      <th>1</th>\n",
       "      <td>Kevin</td>\n",
       "      <td>O'Brien</td>\n",
       "      <td>Male</td>\n",
       "      <td>2750</td>\n",
       "    </tr>\n",
       "    <tr>\n",
       "      <th>2</th>\n",
       "      <td>Diane</td>\n",
       "      <td>Cooper</td>\n",
       "      <td>Female</td>\n",
       "      <td>3425</td>\n",
       "    </tr>\n",
       "    <tr>\n",
       "      <th>3</th>\n",
       "      <td>Patricia</td>\n",
       "      <td>O'Connor</td>\n",
       "      <td>Female</td>\n",
       "      <td>3820</td>\n",
       "    </tr>\n",
       "  </tbody>\n",
       "</table>\n",
       "</div>"
      ],
      "text/plain": [
       "    column1   column2 column3  some_random_numbers\n",
       "0      Alan  Robinson    Male                 4200\n",
       "1     Kevin   O'Brien    Male                 2750\n",
       "2     Diane    Cooper  Female                 3425\n",
       "3  Patricia  O'Connor  Female                 3820"
      ]
     },
     "execution_count": 4,
     "metadata": {},
     "output_type": "execute_result"
    }
   ],
   "source": [
    "\n",
    "# data = {\n",
    "#    \"column1\": [\"Alan\", \"Kevin\", \"Diane\",\"Patricia\",\"Paul\"],\n",
    "#    \"column2\": [\"Robinson\", \"O'Brien\",\"Cooper\",\"O'Connor\",\"Hayes\"],\n",
    "#    \"column3\": [\"Male\", \"Male\", \"Female\",\"Female\",\"Male\"],\n",
    "#    \"some_random_numbers\": [4200, 2750, 3425,3820,4560]\n",
    "#}\n",
    "\n",
    "# Create the DataFrame\n",
    "df = pd.DataFrame(data)\n",
    "df"
   ]
  },
  {
   "cell_type": "markdown",
   "metadata": {},
   "source": [
    "An `index` column is added automatically by pandas. This is to keep track of rows and for fast manipulation of data by easy slicing. Individual rows can be accessed by the index."
   ]
  },
  {
   "cell_type": "code",
   "execution_count": 14,
   "metadata": {},
   "outputs": [
    {
     "data": {
      "text/html": [
       "<div>\n",
       "<table border=\"1\" class=\"dataframe\">\n",
       "  <thead>\n",
       "    <tr style=\"text-align: right;\">\n",
       "      <th></th>\n",
       "      <th>column1</th>\n",
       "      <th>column2</th>\n",
       "      <th>column3</th>\n",
       "      <th>some_random_numbers</th>\n",
       "    </tr>\n",
       "  </thead>\n",
       "  <tbody>\n",
       "    <tr>\n",
       "      <th>0</th>\n",
       "      <td>Alan</td>\n",
       "      <td>Robinson</td>\n",
       "      <td>Male</td>\n",
       "      <td>4200</td>\n",
       "    </tr>\n",
       "    <tr>\n",
       "      <th>1</th>\n",
       "      <td>Kevin</td>\n",
       "      <td>O'Brien</td>\n",
       "      <td>Male</td>\n",
       "      <td>2750</td>\n",
       "    </tr>\n",
       "    <tr>\n",
       "      <th>2</th>\n",
       "      <td>Diane</td>\n",
       "      <td>Cooper</td>\n",
       "      <td>Female</td>\n",
       "      <td>3425</td>\n",
       "    </tr>\n",
       "    <tr>\n",
       "      <th>3</th>\n",
       "      <td>Patricia</td>\n",
       "      <td>O'Connor</td>\n",
       "      <td>Female</td>\n",
       "      <td>3820</td>\n",
       "    </tr>\n",
       "  </tbody>\n",
       "</table>\n",
       "</div>"
      ],
      "text/plain": [
       "    column1   column2 column3  some_random_numbers\n",
       "0      Alan  Robinson    Male                 4200\n",
       "1     Kevin   O'Brien    Male                 2750\n",
       "2     Diane    Cooper  Female                 3425\n",
       "3  Patricia  O'Connor  Female                 3820"
      ]
     },
     "execution_count": 14,
     "metadata": {},
     "output_type": "execute_result"
    }
   ],
   "source": [
    "df.loc[:4]"
   ]
  },
  {
   "cell_type": "code",
   "execution_count": 15,
   "metadata": {},
   "outputs": [
    {
     "data": {
      "text/plain": [
       "0        Alan\n",
       "1       Kevin\n",
       "2       Diane\n",
       "3    Patricia\n",
       "Name: column1, dtype: object"
      ]
     },
     "execution_count": 15,
     "metadata": {},
     "output_type": "execute_result"
    }
   ],
   "source": [
    "df[\"column1\"]"
   ]
  },
  {
   "cell_type": "code",
   "execution_count": 16,
   "metadata": {},
   "outputs": [
    {
     "data": {
      "text/plain": [
       "array(['Alan', 'Kevin', 'Diane', 'Patricia'], dtype=object)"
      ]
     },
     "execution_count": 16,
     "metadata": {},
     "output_type": "execute_result"
    }
   ],
   "source": [
    "df[\"column1\"].values"
   ]
  },
  {
   "cell_type": "code",
   "execution_count": 17,
   "metadata": {},
   "outputs": [
    {
     "data": {
      "text/plain": [
       "['Alan', 'Kevin', 'Diane', 'Patricia']"
      ]
     },
     "execution_count": 17,
     "metadata": {},
     "output_type": "execute_result"
    }
   ],
   "source": [
    "df[\"column1\"].tolist()"
   ]
  },
  {
   "cell_type": "markdown",
   "metadata": {},
   "source": [
    "**NOTE:** Data in a pandas DataFrame is linked as a collection of columns rather than a collection of rows. Thus it is very\n",
    "fast to access and manipulate data in columns rather than rows. It is important to use appropriate data modelling\n",
    "techniques to convert available data into a more accessible format"
   ]
  },
  {
   "cell_type": "markdown",
   "metadata": {},
   "source": [
    "<br>\n",
    "\n",
    "## Inspecting DataFrames\n",
    "\n",
    "Below are some useful DataFrame inspection functions"
   ]
  },
  {
   "cell_type": "code",
   "execution_count": 20,
   "metadata": {},
   "outputs": [
    {
     "name": "stdout",
     "output_type": "stream",
     "text": [
      "<class 'pandas.core.frame.DataFrame'>\n",
      "RangeIndex: 4 entries, 0 to 3\n",
      "Data columns (total 4 columns):\n",
      "column1                4 non-null object\n",
      "column2                4 non-null object\n",
      "column3                4 non-null object\n",
      "some_random_numbers    4 non-null int64\n",
      "dtypes: int64(1), object(3)\n",
      "memory usage: 208.0+ bytes\n"
     ]
    }
   ],
   "source": [
    "# Summary\n",
    "df.info()"
   ]
  },
  {
   "cell_type": "code",
   "execution_count": 27,
   "metadata": {},
   "outputs": [
    {
     "data": {
      "text/plain": [
       "Index(['column1', 'column2', 'column3', 'some_random_numbers'], dtype='object')"
      ]
     },
     "execution_count": 27,
     "metadata": {},
     "output_type": "execute_result"
    }
   ],
   "source": [
    "# Get the list of columns\n",
    "df.columns"
   ]
  },
  {
   "cell_type": "code",
   "execution_count": 30,
   "metadata": {},
   "outputs": [
    {
     "data": {
      "text/plain": [
       "RangeIndex(start=0, stop=4, step=1)"
      ]
     },
     "execution_count": 30,
     "metadata": {},
     "output_type": "execute_result"
    }
   ],
   "source": [
    "# Get the index\n",
    "df.index"
   ]
  },
  {
   "cell_type": "code",
   "execution_count": 34,
   "metadata": {},
   "outputs": [
    {
     "data": {
      "text/html": [
       "<div>\n",
       "<table border=\"1\" class=\"dataframe\">\n",
       "  <thead>\n",
       "    <tr style=\"text-align: right;\">\n",
       "      <th></th>\n",
       "      <th>column1</th>\n",
       "      <th>column2</th>\n",
       "      <th>column3</th>\n",
       "      <th>some_random_numbers</th>\n",
       "    </tr>\n",
       "  </thead>\n",
       "  <tbody>\n",
       "    <tr>\n",
       "      <th>0</th>\n",
       "      <td>Alan</td>\n",
       "      <td>Robinson</td>\n",
       "      <td>Male</td>\n",
       "      <td>4200</td>\n",
       "    </tr>\n",
       "    <tr>\n",
       "      <th>1</th>\n",
       "      <td>Kevin</td>\n",
       "      <td>O'Brien</td>\n",
       "      <td>Male</td>\n",
       "      <td>2750</td>\n",
       "    </tr>\n",
       "  </tbody>\n",
       "</table>\n",
       "</div>"
      ],
      "text/plain": [
       "  column1   column2 column3  some_random_numbers\n",
       "0    Alan  Robinson    Male                 4200\n",
       "1   Kevin   O'Brien    Male                 2750"
      ]
     },
     "execution_count": 34,
     "metadata": {},
     "output_type": "execute_result"
    }
   ],
   "source": [
    "# Sneak peek\n",
    "df.head(2)"
   ]
  },
  {
   "cell_type": "code",
   "execution_count": 35,
   "metadata": {},
   "outputs": [
    {
     "data": {
      "text/html": [
       "<div>\n",
       "<table border=\"1\" class=\"dataframe\">\n",
       "  <thead>\n",
       "    <tr style=\"text-align: right;\">\n",
       "      <th></th>\n",
       "      <th>column1</th>\n",
       "      <th>column2</th>\n",
       "      <th>column3</th>\n",
       "      <th>some_random_numbers</th>\n",
       "    </tr>\n",
       "  </thead>\n",
       "  <tbody>\n",
       "    <tr>\n",
       "      <th>0</th>\n",
       "      <td>Alan</td>\n",
       "      <td>Robinson</td>\n",
       "      <td>Male</td>\n",
       "      <td>4200</td>\n",
       "    </tr>\n",
       "  </tbody>\n",
       "</table>\n",
       "</div>"
      ],
      "text/plain": [
       "  column1   column2 column3  some_random_numbers\n",
       "0    Alan  Robinson    Male                 4200"
      ]
     },
     "execution_count": 35,
     "metadata": {},
     "output_type": "execute_result"
    }
   ],
   "source": [
    "df.head(1)"
   ]
  },
  {
   "cell_type": "code",
   "execution_count": 41,
   "metadata": {},
   "outputs": [
    {
     "data": {
      "text/html": [
       "<div>\n",
       "<table border=\"1\" class=\"dataframe\">\n",
       "  <thead>\n",
       "    <tr style=\"text-align: right;\">\n",
       "      <th></th>\n",
       "      <th>some_random_numbers</th>\n",
       "    </tr>\n",
       "  </thead>\n",
       "  <tbody>\n",
       "    <tr>\n",
       "      <th>count</th>\n",
       "      <td>4.000000</td>\n",
       "    </tr>\n",
       "    <tr>\n",
       "      <th>mean</th>\n",
       "      <td>3548.750000</td>\n",
       "    </tr>\n",
       "    <tr>\n",
       "      <th>std</th>\n",
       "      <td>619.413365</td>\n",
       "    </tr>\n",
       "    <tr>\n",
       "      <th>min</th>\n",
       "      <td>2750.000000</td>\n",
       "    </tr>\n",
       "    <tr>\n",
       "      <th>25%</th>\n",
       "      <td>3256.250000</td>\n",
       "    </tr>\n",
       "    <tr>\n",
       "      <th>50%</th>\n",
       "      <td>3622.500000</td>\n",
       "    </tr>\n",
       "    <tr>\n",
       "      <th>75%</th>\n",
       "      <td>3915.000000</td>\n",
       "    </tr>\n",
       "    <tr>\n",
       "      <th>max</th>\n",
       "      <td>4200.000000</td>\n",
       "    </tr>\n",
       "  </tbody>\n",
       "</table>\n",
       "</div>"
      ],
      "text/plain": [
       "       some_random_numbers\n",
       "count             4.000000\n",
       "mean           3548.750000\n",
       "std             619.413365\n",
       "min            2750.000000\n",
       "25%            3256.250000\n",
       "50%            3622.500000\n",
       "75%            3915.000000\n",
       "max            4200.000000"
      ]
     },
     "execution_count": 41,
     "metadata": {},
     "output_type": "execute_result"
    }
   ],
   "source": [
    "# Summary Statistics\n",
    "df.describe()"
   ]
  },
  {
   "cell_type": "code",
   "execution_count": 45,
   "metadata": {},
   "outputs": [
    {
     "data": {
      "text/plain": [
       "some_random_numbers    2750.0\n",
       "Name: min, dtype: float64"
      ]
     },
     "execution_count": 45,
     "metadata": {},
     "output_type": "execute_result"
    }
   ],
   "source": [
    "df.describe().loc[\"min\"]"
   ]
  },
  {
   "cell_type": "code",
   "execution_count": 47,
   "metadata": {},
   "outputs": [
    {
     "data": {
      "text/plain": [
       "4"
      ]
     },
     "execution_count": 47,
     "metadata": {},
     "output_type": "execute_result"
    }
   ],
   "source": [
    "# Number of rows in a DataFrame\n",
    "len(df)"
   ]
  },
  {
   "cell_type": "markdown",
   "metadata": {},
   "source": [
    "For looking up details about a DataFrame or a function use \"dir\" or \"help\""
   ]
  },
  {
   "cell_type": "code",
   "execution_count": 49,
   "metadata": {},
   "outputs": [],
   "source": [
    "# dir(df)"
   ]
  },
  {
   "cell_type": "code",
   "execution_count": 51,
   "metadata": {},
   "outputs": [],
   "source": [
    "# help(df.loc)"
   ]
  },
  {
   "cell_type": "markdown",
   "metadata": {},
   "source": [
    "<br>\n",
    "\n",
    "## Manipulating Data"
   ]
  },
  {
   "cell_type": "markdown",
   "metadata": {},
   "source": [
    "Adding and removing columns from a DataFrame can be done on the fly and makes data manipulation very easy"
   ]
  },
  {
   "cell_type": "code",
   "execution_count": null,
   "metadata": {},
   "outputs": [],
   "source": [
    "df"
   ]
  },
  {
   "cell_type": "code",
   "execution_count": null,
   "metadata": {},
   "outputs": [],
   "source": [
    "df[\"Location\"] = [\"Athlone\", \"Limerick\", \"Dublin\",\"Mullingar\"]\n",
    "df"
   ]
  },
  {
   "cell_type": "markdown",
   "metadata": {},
   "source": [
    "A subset of columns can be extracted from a DataFrame to remove extra columns"
   ]
  },
  {
   "cell_type": "code",
   "execution_count": null,
   "metadata": {},
   "outputs": [],
   "source": [
    "name_df = df[[\"column1\", \"column2\"]]\n",
    "name_df"
   ]
  },
  {
   "cell_type": "code",
   "execution_count": null,
   "metadata": {},
   "outputs": [],
   "source": [
    "# Rename columns\n",
    "name_df = name_df.rename(\n",
    "    columns={\n",
    "        \"column1\": \"First Name\",\n",
    "        \"column2\": \"Last Name\"\n",
    "    }\n",
    ")\n",
    "name_df"
   ]
  },
  {
   "cell_type": "code",
   "execution_count": null,
   "metadata": {},
   "outputs": [],
   "source": [
    "# Extract the 1st letter of first name\n",
    "name_df[\"FN_1\"] = name_df[\"First Name\"].map(lambda x: x[0])\n",
    "name_df"
   ]
  },
  {
   "cell_type": "code",
   "execution_count": null,
   "metadata": {},
   "outputs": [],
   "source": [
    "# TODO: Extract the last 3 letters of Last Name in a new column \"LN_3\"\n",
    "name_df[\"LN_3\"] = name_df[\"Last Name\"].map(lambda x: x[-3:])\n",
    "name_df"
   ]
  },
  {
   "cell_type": "markdown",
   "metadata": {},
   "source": [
    "<br>\n",
    "## Load Data\n",
    "\n",
    "Data can be loaded from external sources like CSV files, Excel and databases."
   ]
  },
  {
   "cell_type": "code",
   "execution_count": 69,
   "metadata": {},
   "outputs": [
    {
     "name": "stdout",
     "output_type": "stream",
     "text": [
      "<class 'pandas.core.frame.DataFrame'>\n",
      "RangeIndex: 8784 entries, 0 to 8783\n",
      "Data columns (total 8 columns):\n",
      "Date/Time             8784 non-null object\n",
      "Temp (C)              8784 non-null float64\n",
      "Dew Point Temp (C)    8784 non-null float64\n",
      "Rel Hum (%)           8784 non-null int64\n",
      "Wind Spd (km/h)       8784 non-null int64\n",
      "Visibility (km)       8784 non-null float64\n",
      "Stn Press (kPa)       8784 non-null float64\n",
      "Weather               8784 non-null object\n",
      "dtypes: float64(4), int64(2), object(2)\n",
      "memory usage: 549.1+ KB\n"
     ]
    }
   ],
   "source": [
    "Weather = pd.read_csv(\"https://raw.githubusercontent.com/PyDataWorkshop/datasets/master/weather_2012.csv\")\n",
    "Weather.info()"
   ]
  },
  {
   "cell_type": "code",
   "execution_count": 75,
   "metadata": {},
   "outputs": [
    {
     "data": {
      "text/html": [
       "<div>\n",
       "<table border=\"1\" class=\"dataframe\">\n",
       "  <thead>\n",
       "    <tr style=\"text-align: right;\">\n",
       "      <th></th>\n",
       "      <th>Date/Time</th>\n",
       "      <th>Temp (C)</th>\n",
       "      <th>Dew Point Temp (C)</th>\n",
       "      <th>Rel Hum (%)</th>\n",
       "      <th>Wind Spd (km/h)</th>\n",
       "      <th>Visibility (km)</th>\n",
       "      <th>Stn Press (kPa)</th>\n",
       "      <th>Weather</th>\n",
       "    </tr>\n",
       "  </thead>\n",
       "  <tbody>\n",
       "    <tr>\n",
       "      <th>0</th>\n",
       "      <td>2012-01-01 00:00:00</td>\n",
       "      <td>-1.8</td>\n",
       "      <td>-3.9</td>\n",
       "      <td>86</td>\n",
       "      <td>4</td>\n",
       "      <td>8.0</td>\n",
       "      <td>101.24</td>\n",
       "      <td>Fog</td>\n",
       "    </tr>\n",
       "    <tr>\n",
       "      <th>1</th>\n",
       "      <td>2012-01-01 01:00:00</td>\n",
       "      <td>-1.8</td>\n",
       "      <td>-3.7</td>\n",
       "      <td>87</td>\n",
       "      <td>4</td>\n",
       "      <td>8.0</td>\n",
       "      <td>101.24</td>\n",
       "      <td>Fog</td>\n",
       "    </tr>\n",
       "    <tr>\n",
       "      <th>2</th>\n",
       "      <td>2012-01-01 02:00:00</td>\n",
       "      <td>-1.8</td>\n",
       "      <td>-3.4</td>\n",
       "      <td>89</td>\n",
       "      <td>7</td>\n",
       "      <td>4.0</td>\n",
       "      <td>101.26</td>\n",
       "      <td>Freezing Drizzle,Fog</td>\n",
       "    </tr>\n",
       "    <tr>\n",
       "      <th>3</th>\n",
       "      <td>2012-01-01 03:00:00</td>\n",
       "      <td>-1.5</td>\n",
       "      <td>-3.2</td>\n",
       "      <td>88</td>\n",
       "      <td>6</td>\n",
       "      <td>4.0</td>\n",
       "      <td>101.27</td>\n",
       "      <td>Freezing Drizzle,Fog</td>\n",
       "    </tr>\n",
       "    <tr>\n",
       "      <th>4</th>\n",
       "      <td>2012-01-01 04:00:00</td>\n",
       "      <td>-1.5</td>\n",
       "      <td>-3.3</td>\n",
       "      <td>88</td>\n",
       "      <td>7</td>\n",
       "      <td>4.8</td>\n",
       "      <td>101.23</td>\n",
       "      <td>Fog</td>\n",
       "    </tr>\n",
       "  </tbody>\n",
       "</table>\n",
       "</div>"
      ],
      "text/plain": [
       "             Date/Time  Temp (C)  Dew Point Temp (C)  Rel Hum (%)  \\\n",
       "0  2012-01-01 00:00:00      -1.8                -3.9           86   \n",
       "1  2012-01-01 01:00:00      -1.8                -3.7           87   \n",
       "2  2012-01-01 02:00:00      -1.8                -3.4           89   \n",
       "3  2012-01-01 03:00:00      -1.5                -3.2           88   \n",
       "4  2012-01-01 04:00:00      -1.5                -3.3           88   \n",
       "\n",
       "   Wind Spd (km/h)  Visibility (km)  Stn Press (kPa)               Weather  \n",
       "0                4              8.0           101.24                   Fog  \n",
       "1                4              8.0           101.24                   Fog  \n",
       "2                7              4.0           101.26  Freezing Drizzle,Fog  \n",
       "3                6              4.0           101.27  Freezing Drizzle,Fog  \n",
       "4                7              4.8           101.23                   Fog  "
      ]
     },
     "execution_count": 75,
     "metadata": {},
     "output_type": "execute_result"
    }
   ],
   "source": [
    "Weather.head()"
   ]
  },
  {
   "cell_type": "code",
   "execution_count": 73,
   "metadata": {},
   "outputs": [
    {
     "data": {
      "text/plain": [
       "array(['Fog', 'Freezing Drizzle,Fog', 'Mostly Cloudy', 'Cloudy', 'Rain',\n",
       "       'Rain Showers', 'Mainly Clear', 'Snow Showers', 'Snow', 'Clear',\n",
       "       'Freezing Rain,Fog', 'Freezing Rain', 'Freezing Drizzle',\n",
       "       'Rain,Snow', 'Moderate Snow', 'Freezing Drizzle,Snow',\n",
       "       'Freezing Rain,Snow Grains', 'Snow,Blowing Snow', 'Freezing Fog',\n",
       "       'Haze', 'Rain,Fog', 'Drizzle,Fog', 'Drizzle',\n",
       "       'Freezing Drizzle,Haze', 'Freezing Rain,Haze', 'Snow,Haze',\n",
       "       'Snow,Fog', 'Snow,Ice Pellets', 'Rain,Haze', 'Thunderstorms,Rain',\n",
       "       'Thunderstorms,Rain Showers', 'Thunderstorms,Heavy Rain Showers',\n",
       "       'Thunderstorms,Rain Showers,Fog', 'Thunderstorms',\n",
       "       'Thunderstorms,Rain,Fog', 'Thunderstorms,Moderate Rain Showers,Fog',\n",
       "       'Rain Showers,Fog', 'Rain Showers,Snow Showers', 'Snow Pellets',\n",
       "       'Rain,Snow,Fog', 'Moderate Rain,Fog',\n",
       "       'Freezing Rain,Ice Pellets,Fog', 'Drizzle,Ice Pellets,Fog',\n",
       "       'Drizzle,Snow', 'Rain,Ice Pellets', 'Drizzle,Snow,Fog',\n",
       "       'Rain,Snow Grains', 'Rain,Snow,Ice Pellets', 'Snow Showers,Fog',\n",
       "       'Moderate Snow,Blowing Snow'], dtype=object)"
      ]
     },
     "execution_count": 73,
     "metadata": {},
     "output_type": "execute_result"
    }
   ],
   "source": [
    "Weather[\"Weather\"].unique()"
   ]
  },
  {
   "cell_type": "markdown",
   "metadata": {},
   "source": [
    "<br>\n",
    "\n",
    "## Filtering data"
   ]
  },
  {
   "cell_type": "code",
   "execution_count": 76,
   "metadata": {},
   "outputs": [
    {
     "data": {
      "text/plain": [
       "0.04849726775956284"
      ]
     },
     "execution_count": 76,
     "metadata": {},
     "output_type": "execute_result"
    }
   ],
   "source": [
    "Weather[\"Weather\"].str.contains(\"Fog\").mean()"
   ]
  },
  {
   "cell_type": "code",
   "execution_count": 79,
   "metadata": {},
   "outputs": [
    {
     "data": {
      "text/plain": [
       "0    False\n",
       "1    False\n",
       "2    False\n",
       "3    False\n",
       "4    False\n",
       "Name: Weather, dtype: bool"
      ]
     },
     "execution_count": 79,
     "metadata": {},
     "output_type": "execute_result"
    }
   ],
   "source": [
    "Weather[\"Weather\"].str.contains(\"Rain\").head(5)"
   ]
  },
  {
   "cell_type": "code",
   "execution_count": 67,
   "metadata": {},
   "outputs": [
    {
     "data": {
      "text/plain": [
       "18                               Rain\n",
       "19                               Rain\n",
       "22                       Rain Showers\n",
       "24                       Rain Showers\n",
       "153                 Freezing Rain,Fog\n",
       "154                     Freezing Rain\n",
       "157                     Freezing Rain\n",
       "221                         Rain,Snow\n",
       "296                     Freezing Rain\n",
       "297         Freezing Rain,Snow Grains\n",
       "299                     Freezing Rain\n",
       "404                     Freezing Rain\n",
       "405                     Freezing Rain\n",
       "406                     Freezing Rain\n",
       "407                 Freezing Rain,Fog\n",
       "542                              Rain\n",
       "543                              Rain\n",
       "545                              Rain\n",
       "546                          Rain,Fog\n",
       "547                          Rain,Fog\n",
       "552                              Rain\n",
       "554                              Rain\n",
       "555                              Rain\n",
       "566                              Rain\n",
       "631                     Freezing Rain\n",
       "632                     Freezing Rain\n",
       "633                              Rain\n",
       "634                          Rain,Fog\n",
       "671                         Rain,Snow\n",
       "747                     Freezing Rain\n",
       "                    ...              \n",
       "8273                         Rain,Fog\n",
       "8363                     Rain Showers\n",
       "8425                Freezing Rain,Fog\n",
       "8426                    Freezing Rain\n",
       "8427    Freezing Rain,Ice Pellets,Fog\n",
       "8451                             Rain\n",
       "8452                             Rain\n",
       "8453                 Rain,Ice Pellets\n",
       "8464                        Rain,Snow\n",
       "8465                        Rain,Snow\n",
       "8466                        Rain,Snow\n",
       "8467                             Rain\n",
       "8520                 Rain,Snow Grains\n",
       "8521            Rain,Snow,Ice Pellets\n",
       "8522                        Rain,Snow\n",
       "8523            Rain,Snow,Ice Pellets\n",
       "8524            Rain,Snow,Ice Pellets\n",
       "8525            Rain,Snow,Ice Pellets\n",
       "8526                        Rain,Snow\n",
       "8527                        Rain,Snow\n",
       "8528                        Rain,Snow\n",
       "8529                        Rain,Snow\n",
       "8534                             Rain\n",
       "8535                             Rain\n",
       "8536                             Rain\n",
       "8537                             Rain\n",
       "8538                             Rain\n",
       "8539                             Rain\n",
       "8540                             Rain\n",
       "8541                             Rain\n",
       "Name: Weather, dtype: object"
      ]
     },
     "execution_count": 67,
     "metadata": {},
     "output_type": "execute_result"
    }
   ],
   "source": [
    "Weather[\"Weather\"][Weather[\"Weather\"].str.contains(\"Rain\")]"
   ]
  },
  {
   "cell_type": "code",
   "execution_count": 80,
   "metadata": {},
   "outputs": [
    {
     "data": {
      "text/plain": [
       "18    Rain\n",
       "Name: Weather, dtype: object"
      ]
     },
     "execution_count": 80,
     "metadata": {},
     "output_type": "execute_result"
    }
   ],
   "source": [
    "Weather[\"Weather\"][Weather[\"Weather\"].str.contains(\"Rain\")].head(1)"
   ]
  },
  {
   "cell_type": "code",
   "execution_count": 82,
   "metadata": {},
   "outputs": [
    {
     "data": {
      "text/plain": [
       "array(['Rain', 'Rain Showers', 'Freezing Rain,Fog', 'Freezing Rain',\n",
       "       'Rain,Snow', 'Freezing Rain,Snow Grains', 'Rain,Fog',\n",
       "       'Freezing Rain,Haze', 'Rain,Haze', 'Thunderstorms,Rain',\n",
       "       'Thunderstorms,Rain Showers', 'Thunderstorms,Heavy Rain Showers',\n",
       "       'Thunderstorms,Rain Showers,Fog', 'Thunderstorms,Rain,Fog',\n",
       "       'Thunderstorms,Moderate Rain Showers,Fog', 'Rain Showers,Fog',\n",
       "       'Rain Showers,Snow Showers', 'Rain,Snow,Fog', 'Moderate Rain,Fog',\n",
       "       'Freezing Rain,Ice Pellets,Fog', 'Rain,Ice Pellets',\n",
       "       'Rain,Snow Grains', 'Rain,Snow,Ice Pellets'], dtype=object)"
      ]
     },
     "execution_count": 82,
     "metadata": {},
     "output_type": "execute_result"
    }
   ],
   "source": [
    "# Find only \"Rain\" weather reports\n",
    "Weather[\"Weather\"][Weather[\"Weather\"].str.contains(\"Rain\")].unique()"
   ]
  },
  {
   "cell_type": "code",
   "execution_count": 84,
   "metadata": {},
   "outputs": [
    {
     "data": {
      "text/html": [
       "<div>\n",
       "<table border=\"1\" class=\"dataframe\">\n",
       "  <thead>\n",
       "    <tr style=\"text-align: right;\">\n",
       "      <th></th>\n",
       "      <th>Date/Time</th>\n",
       "      <th>Temp (C)</th>\n",
       "      <th>Dew Point Temp (C)</th>\n",
       "      <th>Rel Hum (%)</th>\n",
       "      <th>Wind Spd (km/h)</th>\n",
       "      <th>Visibility (km)</th>\n",
       "      <th>Stn Press (kPa)</th>\n",
       "      <th>Weather</th>\n",
       "    </tr>\n",
       "  </thead>\n",
       "  <tbody>\n",
       "    <tr>\n",
       "      <th>0</th>\n",
       "      <td>2012-01-01 00:00:00</td>\n",
       "      <td>-1.8</td>\n",
       "      <td>-3.9</td>\n",
       "      <td>86</td>\n",
       "      <td>4</td>\n",
       "      <td>8.0</td>\n",
       "      <td>101.24</td>\n",
       "      <td>Fog</td>\n",
       "    </tr>\n",
       "    <tr>\n",
       "      <th>1</th>\n",
       "      <td>2012-01-01 01:00:00</td>\n",
       "      <td>-1.8</td>\n",
       "      <td>-3.7</td>\n",
       "      <td>87</td>\n",
       "      <td>4</td>\n",
       "      <td>8.0</td>\n",
       "      <td>101.24</td>\n",
       "      <td>Fog</td>\n",
       "    </tr>\n",
       "    <tr>\n",
       "      <th>4</th>\n",
       "      <td>2012-01-01 04:00:00</td>\n",
       "      <td>-1.5</td>\n",
       "      <td>-3.3</td>\n",
       "      <td>88</td>\n",
       "      <td>7</td>\n",
       "      <td>4.8</td>\n",
       "      <td>101.23</td>\n",
       "      <td>Fog</td>\n",
       "    </tr>\n",
       "    <tr>\n",
       "      <th>5</th>\n",
       "      <td>2012-01-01 05:00:00</td>\n",
       "      <td>-1.4</td>\n",
       "      <td>-3.3</td>\n",
       "      <td>87</td>\n",
       "      <td>9</td>\n",
       "      <td>6.4</td>\n",
       "      <td>101.27</td>\n",
       "      <td>Fog</td>\n",
       "    </tr>\n",
       "    <tr>\n",
       "      <th>6</th>\n",
       "      <td>2012-01-01 06:00:00</td>\n",
       "      <td>-1.5</td>\n",
       "      <td>-3.1</td>\n",
       "      <td>89</td>\n",
       "      <td>7</td>\n",
       "      <td>6.4</td>\n",
       "      <td>101.29</td>\n",
       "      <td>Fog</td>\n",
       "    </tr>\n",
       "    <tr>\n",
       "      <th>7</th>\n",
       "      <td>2012-01-01 07:00:00</td>\n",
       "      <td>-1.4</td>\n",
       "      <td>-3.6</td>\n",
       "      <td>85</td>\n",
       "      <td>7</td>\n",
       "      <td>8.0</td>\n",
       "      <td>101.26</td>\n",
       "      <td>Fog</td>\n",
       "    </tr>\n",
       "    <tr>\n",
       "      <th>8</th>\n",
       "      <td>2012-01-01 08:00:00</td>\n",
       "      <td>-1.4</td>\n",
       "      <td>-3.6</td>\n",
       "      <td>85</td>\n",
       "      <td>9</td>\n",
       "      <td>8.0</td>\n",
       "      <td>101.23</td>\n",
       "      <td>Fog</td>\n",
       "    </tr>\n",
       "    <tr>\n",
       "      <th>9</th>\n",
       "      <td>2012-01-01 09:00:00</td>\n",
       "      <td>-1.3</td>\n",
       "      <td>-3.1</td>\n",
       "      <td>88</td>\n",
       "      <td>15</td>\n",
       "      <td>4.0</td>\n",
       "      <td>101.20</td>\n",
       "      <td>Fog</td>\n",
       "    </tr>\n",
       "    <tr>\n",
       "      <th>10</th>\n",
       "      <td>2012-01-01 10:00:00</td>\n",
       "      <td>-1.0</td>\n",
       "      <td>-2.3</td>\n",
       "      <td>91</td>\n",
       "      <td>9</td>\n",
       "      <td>1.2</td>\n",
       "      <td>101.15</td>\n",
       "      <td>Fog</td>\n",
       "    </tr>\n",
       "    <tr>\n",
       "      <th>11</th>\n",
       "      <td>2012-01-01 11:00:00</td>\n",
       "      <td>-0.5</td>\n",
       "      <td>-2.1</td>\n",
       "      <td>89</td>\n",
       "      <td>7</td>\n",
       "      <td>4.0</td>\n",
       "      <td>100.98</td>\n",
       "      <td>Fog</td>\n",
       "    </tr>\n",
       "  </tbody>\n",
       "</table>\n",
       "</div>"
      ],
      "text/plain": [
       "              Date/Time  Temp (C)  Dew Point Temp (C)  Rel Hum (%)  \\\n",
       "0   2012-01-01 00:00:00      -1.8                -3.9           86   \n",
       "1   2012-01-01 01:00:00      -1.8                -3.7           87   \n",
       "4   2012-01-01 04:00:00      -1.5                -3.3           88   \n",
       "5   2012-01-01 05:00:00      -1.4                -3.3           87   \n",
       "6   2012-01-01 06:00:00      -1.5                -3.1           89   \n",
       "7   2012-01-01 07:00:00      -1.4                -3.6           85   \n",
       "8   2012-01-01 08:00:00      -1.4                -3.6           85   \n",
       "9   2012-01-01 09:00:00      -1.3                -3.1           88   \n",
       "10  2012-01-01 10:00:00      -1.0                -2.3           91   \n",
       "11  2012-01-01 11:00:00      -0.5                -2.1           89   \n",
       "\n",
       "    Wind Spd (km/h)  Visibility (km)  Stn Press (kPa) Weather  \n",
       "0                 4              8.0           101.24     Fog  \n",
       "1                 4              8.0           101.24     Fog  \n",
       "4                 7              4.8           101.23     Fog  \n",
       "5                 9              6.4           101.27     Fog  \n",
       "6                 7              6.4           101.29     Fog  \n",
       "7                 7              8.0           101.26     Fog  \n",
       "8                 9              8.0           101.23     Fog  \n",
       "9                15              4.0           101.20     Fog  \n",
       "10                9              1.2           101.15     Fog  \n",
       "11                7              4.0           100.98     Fog  "
      ]
     },
     "execution_count": 84,
     "metadata": {},
     "output_type": "execute_result"
    }
   ],
   "source": [
    "# Find rows that has weather value as \"Fog\"\n",
    "Weather[Weather[\"Weather\"] == \"Fog\"].head(10)"
   ]
  },
  {
   "cell_type": "code",
   "execution_count": 88,
   "metadata": {},
   "outputs": [],
   "source": [
    "# Find rows where temperature is more than 10 deg C\n",
    "temp = Weather[(Weather[\"Temp (C)\"] > 10.0) & (Weather[\"Weather\"].isin([\"Mainly Clear\",\"Cloudy\", \"Clear\"]))]"
   ]
  },
  {
   "cell_type": "code",
   "execution_count": 92,
   "metadata": {},
   "outputs": [
    {
     "data": {
      "text/plain": [
       "(2716, 1)"
      ]
     },
     "execution_count": 92,
     "metadata": {},
     "output_type": "execute_result"
    }
   ],
   "source": [
    "temp[[\"Weather\"]].shape"
   ]
  },
  {
   "cell_type": "code",
   "execution_count": 94,
   "metadata": {},
   "outputs": [
    {
     "data": {
      "text/plain": [
       "Weather\n",
       "Clear                                       0.089367\n",
       "Cloudy                                      2.375810\n",
       "Drizzle                                     5.504878\n",
       "Drizzle,Fog                                 7.033750\n",
       "Drizzle,Ice Pellets,Fog                    -0.700000\n",
       "Drizzle,Snow                                0.150000\n",
       "Drizzle,Snow,Fog                            0.120000\n",
       "Fog                                         3.159333\n",
       "Freezing Drizzle                           -8.000000\n",
       "Freezing Drizzle,Fog                       -4.183333\n",
       "Freezing Drizzle,Haze                      -8.000000\n",
       "Freezing Drizzle,Snow                      -7.072727\n",
       "Freezing Fog                               -9.250000\n",
       "Freezing Rain                              -6.078571\n",
       "Freezing Rain,Fog                          -3.750000\n",
       "Freezing Rain,Haze                         -7.450000\n",
       "Freezing Rain,Ice Pellets,Fog              -3.700000\n",
       "Freezing Rain,Snow Grains                  -7.300000\n",
       "Haze                                       -2.975000\n",
       "Mainly Clear                                4.581671\n",
       "Moderate Rain,Fog                           0.800000\n",
       "Moderate Snow                              -7.250000\n",
       "Moderate Snow,Blowing Snow                 -6.500000\n",
       "Mostly Cloudy                               3.131174\n",
       "Rain                                        7.042810\n",
       "Rain Showers                                9.187766\n",
       "Rain Showers,Fog                           12.100000\n",
       "Rain Showers,Snow Showers                  -1.500000\n",
       "Rain,Fog                                    7.219828\n",
       "Rain,Haze                                   2.066667\n",
       "Rain,Ice Pellets                           -0.600000\n",
       "Rain,Snow                                  -0.566667\n",
       "Rain,Snow Grains                           -2.100000\n",
       "Rain,Snow,Fog                               0.300000\n",
       "Rain,Snow,Ice Pellets                      -0.175000\n",
       "Snow                                       -7.623333\n",
       "Snow Pellets                               -6.400000\n",
       "Snow Showers                               -7.866667\n",
       "Snow Showers,Fog                          -11.900000\n",
       "Snow,Blowing Snow                          -7.621053\n",
       "Snow,Fog                                   -6.364865\n",
       "Snow,Haze                                  -6.860000\n",
       "Snow,Ice Pellets                           -3.666667\n",
       "Thunderstorms                              19.750000\n",
       "Thunderstorms,Heavy Rain Showers            9.000000\n",
       "Thunderstorms,Moderate Rain Showers,Fog    18.500000\n",
       "Thunderstorms,Rain                         18.533333\n",
       "Thunderstorms,Rain Showers                 17.618750\n",
       "Thunderstorms,Rain Showers,Fog             18.700000\n",
       "Thunderstorms,Rain,Fog                     18.600000\n",
       "Name: Dew Point Temp (C), dtype: float64"
      ]
     },
     "execution_count": 94,
     "metadata": {},
     "output_type": "execute_result"
    }
   ],
   "source": [
    "# Group by on \"Weather\" column and count the number of records for each category\n",
    "weather_grpby = Weather.groupby(\"Weather\")[\"Dew Point Temp (C)\"].mean()\n",
    "weather_grpby"
   ]
  },
  {
   "cell_type": "code",
   "execution_count": 95,
   "metadata": {},
   "outputs": [
    {
     "data": {
      "text/html": [
       "<div>\n",
       "<table border=\"1\" class=\"dataframe\">\n",
       "  <thead>\n",
       "    <tr style=\"text-align: right;\">\n",
       "      <th></th>\n",
       "      <th>Weather</th>\n",
       "      <th>Dew Point Temp (C)</th>\n",
       "    </tr>\n",
       "  </thead>\n",
       "  <tbody>\n",
       "    <tr>\n",
       "      <th>0</th>\n",
       "      <td>Clear</td>\n",
       "      <td>1326</td>\n",
       "    </tr>\n",
       "    <tr>\n",
       "      <th>1</th>\n",
       "      <td>Cloudy</td>\n",
       "      <td>1728</td>\n",
       "    </tr>\n",
       "    <tr>\n",
       "      <th>2</th>\n",
       "      <td>Drizzle</td>\n",
       "      <td>41</td>\n",
       "    </tr>\n",
       "    <tr>\n",
       "      <th>3</th>\n",
       "      <td>Drizzle,Fog</td>\n",
       "      <td>80</td>\n",
       "    </tr>\n",
       "    <tr>\n",
       "      <th>4</th>\n",
       "      <td>Drizzle,Ice Pellets,Fog</td>\n",
       "      <td>1</td>\n",
       "    </tr>\n",
       "    <tr>\n",
       "      <th>5</th>\n",
       "      <td>Drizzle,Snow</td>\n",
       "      <td>2</td>\n",
       "    </tr>\n",
       "    <tr>\n",
       "      <th>6</th>\n",
       "      <td>Drizzle,Snow,Fog</td>\n",
       "      <td>15</td>\n",
       "    </tr>\n",
       "    <tr>\n",
       "      <th>7</th>\n",
       "      <td>Fog</td>\n",
       "      <td>150</td>\n",
       "    </tr>\n",
       "    <tr>\n",
       "      <th>8</th>\n",
       "      <td>Freezing Drizzle</td>\n",
       "      <td>7</td>\n",
       "    </tr>\n",
       "    <tr>\n",
       "      <th>9</th>\n",
       "      <td>Freezing Drizzle,Fog</td>\n",
       "      <td>6</td>\n",
       "    </tr>\n",
       "    <tr>\n",
       "      <th>10</th>\n",
       "      <td>Freezing Drizzle,Haze</td>\n",
       "      <td>3</td>\n",
       "    </tr>\n",
       "    <tr>\n",
       "      <th>11</th>\n",
       "      <td>Freezing Drizzle,Snow</td>\n",
       "      <td>11</td>\n",
       "    </tr>\n",
       "    <tr>\n",
       "      <th>12</th>\n",
       "      <td>Freezing Fog</td>\n",
       "      <td>4</td>\n",
       "    </tr>\n",
       "    <tr>\n",
       "      <th>13</th>\n",
       "      <td>Freezing Rain</td>\n",
       "      <td>14</td>\n",
       "    </tr>\n",
       "    <tr>\n",
       "      <th>14</th>\n",
       "      <td>Freezing Rain,Fog</td>\n",
       "      <td>4</td>\n",
       "    </tr>\n",
       "    <tr>\n",
       "      <th>15</th>\n",
       "      <td>Freezing Rain,Haze</td>\n",
       "      <td>2</td>\n",
       "    </tr>\n",
       "    <tr>\n",
       "      <th>16</th>\n",
       "      <td>Freezing Rain,Ice Pellets,Fog</td>\n",
       "      <td>1</td>\n",
       "    </tr>\n",
       "    <tr>\n",
       "      <th>17</th>\n",
       "      <td>Freezing Rain,Snow Grains</td>\n",
       "      <td>1</td>\n",
       "    </tr>\n",
       "    <tr>\n",
       "      <th>18</th>\n",
       "      <td>Haze</td>\n",
       "      <td>16</td>\n",
       "    </tr>\n",
       "    <tr>\n",
       "      <th>19</th>\n",
       "      <td>Mainly Clear</td>\n",
       "      <td>2106</td>\n",
       "    </tr>\n",
       "    <tr>\n",
       "      <th>20</th>\n",
       "      <td>Moderate Rain,Fog</td>\n",
       "      <td>1</td>\n",
       "    </tr>\n",
       "    <tr>\n",
       "      <th>21</th>\n",
       "      <td>Moderate Snow</td>\n",
       "      <td>4</td>\n",
       "    </tr>\n",
       "    <tr>\n",
       "      <th>22</th>\n",
       "      <td>Moderate Snow,Blowing Snow</td>\n",
       "      <td>2</td>\n",
       "    </tr>\n",
       "    <tr>\n",
       "      <th>23</th>\n",
       "      <td>Mostly Cloudy</td>\n",
       "      <td>2069</td>\n",
       "    </tr>\n",
       "    <tr>\n",
       "      <th>24</th>\n",
       "      <td>Rain</td>\n",
       "      <td>306</td>\n",
       "    </tr>\n",
       "    <tr>\n",
       "      <th>25</th>\n",
       "      <td>Rain Showers</td>\n",
       "      <td>188</td>\n",
       "    </tr>\n",
       "    <tr>\n",
       "      <th>26</th>\n",
       "      <td>Rain Showers,Fog</td>\n",
       "      <td>1</td>\n",
       "    </tr>\n",
       "    <tr>\n",
       "      <th>27</th>\n",
       "      <td>Rain Showers,Snow Showers</td>\n",
       "      <td>2</td>\n",
       "    </tr>\n",
       "    <tr>\n",
       "      <th>28</th>\n",
       "      <td>Rain,Fog</td>\n",
       "      <td>116</td>\n",
       "    </tr>\n",
       "    <tr>\n",
       "      <th>29</th>\n",
       "      <td>Rain,Haze</td>\n",
       "      <td>3</td>\n",
       "    </tr>\n",
       "    <tr>\n",
       "      <th>30</th>\n",
       "      <td>Rain,Ice Pellets</td>\n",
       "      <td>1</td>\n",
       "    </tr>\n",
       "    <tr>\n",
       "      <th>31</th>\n",
       "      <td>Rain,Snow</td>\n",
       "      <td>18</td>\n",
       "    </tr>\n",
       "    <tr>\n",
       "      <th>32</th>\n",
       "      <td>Rain,Snow Grains</td>\n",
       "      <td>1</td>\n",
       "    </tr>\n",
       "    <tr>\n",
       "      <th>33</th>\n",
       "      <td>Rain,Snow,Fog</td>\n",
       "      <td>1</td>\n",
       "    </tr>\n",
       "    <tr>\n",
       "      <th>34</th>\n",
       "      <td>Rain,Snow,Ice Pellets</td>\n",
       "      <td>4</td>\n",
       "    </tr>\n",
       "    <tr>\n",
       "      <th>35</th>\n",
       "      <td>Snow</td>\n",
       "      <td>390</td>\n",
       "    </tr>\n",
       "    <tr>\n",
       "      <th>36</th>\n",
       "      <td>Snow Pellets</td>\n",
       "      <td>1</td>\n",
       "    </tr>\n",
       "    <tr>\n",
       "      <th>37</th>\n",
       "      <td>Snow Showers</td>\n",
       "      <td>60</td>\n",
       "    </tr>\n",
       "    <tr>\n",
       "      <th>38</th>\n",
       "      <td>Snow Showers,Fog</td>\n",
       "      <td>4</td>\n",
       "    </tr>\n",
       "    <tr>\n",
       "      <th>39</th>\n",
       "      <td>Snow,Blowing Snow</td>\n",
       "      <td>19</td>\n",
       "    </tr>\n",
       "    <tr>\n",
       "      <th>40</th>\n",
       "      <td>Snow,Fog</td>\n",
       "      <td>37</td>\n",
       "    </tr>\n",
       "    <tr>\n",
       "      <th>41</th>\n",
       "      <td>Snow,Haze</td>\n",
       "      <td>5</td>\n",
       "    </tr>\n",
       "    <tr>\n",
       "      <th>42</th>\n",
       "      <td>Snow,Ice Pellets</td>\n",
       "      <td>6</td>\n",
       "    </tr>\n",
       "    <tr>\n",
       "      <th>43</th>\n",
       "      <td>Thunderstorms</td>\n",
       "      <td>2</td>\n",
       "    </tr>\n",
       "    <tr>\n",
       "      <th>44</th>\n",
       "      <td>Thunderstorms,Heavy Rain Showers</td>\n",
       "      <td>1</td>\n",
       "    </tr>\n",
       "    <tr>\n",
       "      <th>45</th>\n",
       "      <td>Thunderstorms,Moderate Rain Showers,Fog</td>\n",
       "      <td>1</td>\n",
       "    </tr>\n",
       "    <tr>\n",
       "      <th>46</th>\n",
       "      <td>Thunderstorms,Rain</td>\n",
       "      <td>3</td>\n",
       "    </tr>\n",
       "    <tr>\n",
       "      <th>47</th>\n",
       "      <td>Thunderstorms,Rain Showers</td>\n",
       "      <td>16</td>\n",
       "    </tr>\n",
       "    <tr>\n",
       "      <th>48</th>\n",
       "      <td>Thunderstorms,Rain Showers,Fog</td>\n",
       "      <td>3</td>\n",
       "    </tr>\n",
       "    <tr>\n",
       "      <th>49</th>\n",
       "      <td>Thunderstorms,Rain,Fog</td>\n",
       "      <td>1</td>\n",
       "    </tr>\n",
       "  </tbody>\n",
       "</table>\n",
       "</div>"
      ],
      "text/plain": [
       "                                    Weather  Dew Point Temp (C)\n",
       "0                                     Clear                1326\n",
       "1                                    Cloudy                1728\n",
       "2                                   Drizzle                  41\n",
       "3                               Drizzle,Fog                  80\n",
       "4                   Drizzle,Ice Pellets,Fog                   1\n",
       "5                              Drizzle,Snow                   2\n",
       "6                          Drizzle,Snow,Fog                  15\n",
       "7                                       Fog                 150\n",
       "8                          Freezing Drizzle                   7\n",
       "9                      Freezing Drizzle,Fog                   6\n",
       "10                    Freezing Drizzle,Haze                   3\n",
       "11                    Freezing Drizzle,Snow                  11\n",
       "12                             Freezing Fog                   4\n",
       "13                            Freezing Rain                  14\n",
       "14                        Freezing Rain,Fog                   4\n",
       "15                       Freezing Rain,Haze                   2\n",
       "16            Freezing Rain,Ice Pellets,Fog                   1\n",
       "17                Freezing Rain,Snow Grains                   1\n",
       "18                                     Haze                  16\n",
       "19                             Mainly Clear                2106\n",
       "20                        Moderate Rain,Fog                   1\n",
       "21                            Moderate Snow                   4\n",
       "22               Moderate Snow,Blowing Snow                   2\n",
       "23                            Mostly Cloudy                2069\n",
       "24                                     Rain                 306\n",
       "25                             Rain Showers                 188\n",
       "26                         Rain Showers,Fog                   1\n",
       "27                Rain Showers,Snow Showers                   2\n",
       "28                                 Rain,Fog                 116\n",
       "29                                Rain,Haze                   3\n",
       "30                         Rain,Ice Pellets                   1\n",
       "31                                Rain,Snow                  18\n",
       "32                         Rain,Snow Grains                   1\n",
       "33                            Rain,Snow,Fog                   1\n",
       "34                    Rain,Snow,Ice Pellets                   4\n",
       "35                                     Snow                 390\n",
       "36                             Snow Pellets                   1\n",
       "37                             Snow Showers                  60\n",
       "38                         Snow Showers,Fog                   4\n",
       "39                        Snow,Blowing Snow                  19\n",
       "40                                 Snow,Fog                  37\n",
       "41                                Snow,Haze                   5\n",
       "42                         Snow,Ice Pellets                   6\n",
       "43                            Thunderstorms                   2\n",
       "44         Thunderstorms,Heavy Rain Showers                   1\n",
       "45  Thunderstorms,Moderate Rain Showers,Fog                   1\n",
       "46                       Thunderstorms,Rain                   3\n",
       "47               Thunderstorms,Rain Showers                  16\n",
       "48           Thunderstorms,Rain Showers,Fog                   3\n",
       "49                   Thunderstorms,Rain,Fog                   1"
      ]
     },
     "execution_count": 95,
     "metadata": {},
     "output_type": "execute_result"
    }
   ],
   "source": [
    "# Group by on \"Weather\" column and count the number of records for each category\n",
    "weather_grpby = Weather.groupby(\"Weather\", as_index=False)[\"Dew Point Temp (C)\"].count()\n",
    "weather_grpby"
   ]
  },
  {
   "cell_type": "code",
   "execution_count": 55,
   "metadata": {},
   "outputs": [
    {
     "data": {
      "text/plain": [
       "<matplotlib.axes._subplots.AxesSubplot at 0x7fc5bfda9a20>"
      ]
     },
     "execution_count": 55,
     "metadata": {},
     "output_type": "execute_result"
    },
    {
     "data": {
      "image/png": "[encoded data removed]",
      "text/plain": [
       "<matplotlib.figure.Figure at 0x7fc5d0085588>"
      ]
     },
     "metadata": {},
     "output_type": "display_data"
    }
   ],
   "source": [
    "# Plot a line graph for \"Temp (C)\" field\n",
    "\n",
    "# Plot function by default creates a \"line\" graph.\n",
    "# The figure size is set for (width, height) in inches\n",
    "Weather[\"Temp (C)\"].plot(figsize=(17, 8))"
   ]
  },
  {
   "cell_type": "code",
   "execution_count": 96,
   "metadata": {},
   "outputs": [
    {
     "data": {
      "text/plain": [
       "<matplotlib.axes._subplots.AxesSubplot at 0x7fc5bfebb208>"
      ]
     },
     "execution_count": 96,
     "metadata": {},
     "output_type": "execute_result"
    },
    {
     "data": {
      "image/png": "[encoded data removed]",
      "text/plain": [
       "<matplotlib.figure.Figure at 0x7fc5c006d908>"
      ]
     },
     "metadata": {},
     "output_type": "display_data"
    }
   ],
   "source": [
    "# Use the groupby result from earlier to find the weather with highest number of records\n",
    "weather_grpby.plot(kind=\"bar\", figsize=(17, 8))"
   ]
  },
  {
   "cell_type": "code",
   "execution_count": null,
   "metadata": {
    "collapsed": true
   },
   "outputs": [],
   "source": []
  }
 ],
 "metadata": {
  "kernelspec": {
   "display_name": "Python 3",
   "language": "python",
   "name": "python3"
  },
  "language_info": {
   "codemirror_mode": {
    "name": "ipython",
    "version": 3
   },
   "file_extension": ".py",
   "mimetype": "text/x-python",
   "name": "python",
   "nbconvert_exporter": "python",
   "pygments_lexer": "ipython3",
   "version": "3.5.2"
  }
 },
 "nbformat": 4,
 "nbformat_minor": 1
}
